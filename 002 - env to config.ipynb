{
 "cells": [
  {
   "cell_type": "code",
   "execution_count": 1,
   "id": "761a5195-5657-4ec0-a49b-aa5103474178",
   "metadata": {},
   "outputs": [
    {
     "data": {
      "text/plain": [
       "OrderedDict([('NEWS_API_KEY', '0ae0495dbd0345a2994fe448cf321594'),\n",
       "             ('TABULA_KEY',\n",
       "              'TL_b5198931e59e3b10da1e142bc98d5ff524a7bcfefceeb4ab'),\n",
       "             ('FIVETRAN_API_KEY',\n",
       "              'clJuQWl3djVmYW9xSHBGYjpJREo1WFplYzBJbnBHaktBTWRiTFJNMUllMnlMNVB6dw'),\n",
       "             ('FIVETRAN_DESTINATION_NAME', 'Warehouse'),\n",
       "             ('FIVETRAN_CONNECTION_NAME', 'newsapi_tabula'),\n",
       "             ('SNOWFLAKE_ACCOUNT', 'MKQCKGB-DS92530'),\n",
       "             ('SNOWFLAKE_PASSWORD', 'XKAhmm5gz5cGmGZ'),\n",
       "             ('SNOWFLAKE_USER', 'VONCARLOVITZ'),\n",
       "             ('SNOWFLAKE_ROLE', 'ACCOUNTADMIN'),\n",
       "             ('SNOWFLAKE_DATABASE', 'PC_FIVETRAN_DB'),\n",
       "             ('SNOWFLAKE_SCHEMA', 'NEWSAPI_TABULA'),\n",
       "             ('SNOWFLAKE_WAREHOUSE', 'PC_FIVETRAN_WH'),\n",
       "             ('PAGE_SIZE', '100'),\n",
       "             ('TOPICS', '[\"Ukraine\", \"DOGE\", \"Department of Education\"]')])"
      ]
     },
     "execution_count": 1,
     "metadata": {},
     "output_type": "execute_result"
    }
   ],
   "source": [
    "from dotenv import dotenv_values\n",
    "\n",
    "config = dotenv_values(\".env\")\n",
    "config"
   ]
  },
  {
   "cell_type": "code",
   "execution_count": null,
   "id": "c9e82b0a-62ad-4e21-92fa-92fbb19bd1f9",
   "metadata": {},
   "outputs": [],
   "source": [
    "help(env)"
   ]
  },
  {
   "cell_type": "code",
   "execution_count": null,
   "id": "8474197c-cc84-4486-a5f2-16ca61db5443",
   "metadata": {},
   "outputs": [],
   "source": []
  }
 ],
 "metadata": {
  "kernelspec": {
   "display_name": "Python 3 (ipykernel)",
   "language": "python",
   "name": "python3"
  },
  "language_info": {
   "codemirror_mode": {
    "name": "ipython",
    "version": 3
   },
   "file_extension": ".py",
   "mimetype": "text/x-python",
   "name": "python",
   "nbconvert_exporter": "python",
   "pygments_lexer": "ipython3",
   "version": "3.12.2"
  }
 },
 "nbformat": 4,
 "nbformat_minor": 5
}
